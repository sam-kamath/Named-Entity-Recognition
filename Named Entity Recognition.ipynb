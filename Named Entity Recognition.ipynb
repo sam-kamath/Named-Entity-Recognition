{
 "cells": [
  {
   "cell_type": "code",
   "execution_count": 41,
   "id": "d945d1ee",
   "metadata": {},
   "outputs": [
    {
     "data": {
      "text/html": [
       "<div>\n",
       "<style scoped>\n",
       "    .dataframe tbody tr th:only-of-type {\n",
       "        vertical-align: middle;\n",
       "    }\n",
       "\n",
       "    .dataframe tbody tr th {\n",
       "        vertical-align: top;\n",
       "    }\n",
       "\n",
       "    .dataframe thead th {\n",
       "        text-align: right;\n",
       "    }\n",
       "</style>\n",
       "<table border=\"1\" class=\"dataframe\">\n",
       "  <thead>\n",
       "    <tr style=\"text-align: right;\">\n",
       "      <th></th>\n",
       "      <th>Sentence #</th>\n",
       "      <th>Word</th>\n",
       "      <th>POS</th>\n",
       "      <th>Tag</th>\n",
       "    </tr>\n",
       "  </thead>\n",
       "  <tbody>\n",
       "    <tr>\n",
       "      <th>0</th>\n",
       "      <td>Sentence: 1</td>\n",
       "      <td>Thousands</td>\n",
       "      <td>NNS</td>\n",
       "      <td>O</td>\n",
       "    </tr>\n",
       "    <tr>\n",
       "      <th>1</th>\n",
       "      <td>NaN</td>\n",
       "      <td>of</td>\n",
       "      <td>IN</td>\n",
       "      <td>O</td>\n",
       "    </tr>\n",
       "    <tr>\n",
       "      <th>2</th>\n",
       "      <td>NaN</td>\n",
       "      <td>demonstrators</td>\n",
       "      <td>NNS</td>\n",
       "      <td>O</td>\n",
       "    </tr>\n",
       "    <tr>\n",
       "      <th>3</th>\n",
       "      <td>NaN</td>\n",
       "      <td>have</td>\n",
       "      <td>VBP</td>\n",
       "      <td>O</td>\n",
       "    </tr>\n",
       "    <tr>\n",
       "      <th>4</th>\n",
       "      <td>NaN</td>\n",
       "      <td>marched</td>\n",
       "      <td>VBN</td>\n",
       "      <td>O</td>\n",
       "    </tr>\n",
       "  </tbody>\n",
       "</table>\n",
       "</div>"
      ],
      "text/plain": [
       "    Sentence #           Word  POS Tag\n",
       "0  Sentence: 1      Thousands  NNS   O\n",
       "1          NaN             of   IN   O\n",
       "2          NaN  demonstrators  NNS   O\n",
       "3          NaN           have  VBP   O\n",
       "4          NaN        marched  VBN   O"
      ]
     },
     "execution_count": 41,
     "metadata": {},
     "output_type": "execute_result"
    }
   ],
   "source": [
    "import pandas as pd\n",
    "data=pd.read_csv('ner_dataset.csv',encoding='unicode_escape')\n",
    "data.head()"
   ]
  },
  {
   "cell_type": "code",
   "execution_count": 42,
   "id": "34159c42",
   "metadata": {},
   "outputs": [],
   "source": [
    "from itertools import chain\n",
    "def get_dict_map(data,token_or_tag):\n",
    "    tok2idx={}\n",
    "    idx2tok={}\n",
    "    if token_or_tag=='token':\n",
    "        vocab=list(set(data['Word'].to_list()))\n",
    "    else:\n",
    "        vocab=list(set(data['Tag'].to_list()))\n",
    "    idx2tok={idx:tok for idx,tok in enumerate(vocab)}\n",
    "    tok2idx={tok:idx for idx,tok in enumerate(vocab)}\n",
    "    return tok2idx,idx2tok\n",
    "token2idx,idx2token=get_dict_map(data,'token')\n",
    "tag2idx,idx2tag=get_dict_map(data,'tag')"
   ]
  },
  {
   "cell_type": "code",
   "execution_count": 45,
   "id": "e85f95c1",
   "metadata": {},
   "outputs": [],
   "source": [
    "data['Word_idx']=data['Word'].map(token2idx)\n",
    "data['Tag_idx']=data['Tag'].map(tag2idx)\n",
    "data_fillna=data.fillna(method='ffill',axis=0)\n",
    "data_group=data_fillna.groupby(\n",
    "['Sentence #'],as_index=False\n",
    ")['Word','POS','Tag','Word_idx','Tag_idx'].agg(lambda x:list(x))"
   ]
  },
  {
   "cell_type": "code",
   "execution_count": 46,
   "id": "a7d3aafa",
   "metadata": {},
   "outputs": [
    {
     "name": "stdout",
     "output_type": "stream",
     "text": [
      "train_tokens length: 32372 \n",
      "train_tokens length: 32372 \n",
      "test_tokens length: 4796 \n",
      "test_tags: 4796 \n",
      "val_tokens: 10791 \n",
      "val_tags: 10791\n"
     ]
    }
   ],
   "source": [
    "from sklearn.model_selection import train_test_split\n",
    "from tensorflow.keras.preprocessing.sequence import pad_sequences\n",
    "from tensorflow.keras.utils import to_categorical\n",
    "\n",
    "def get_pad_train_test_val(data_group,data):\n",
    "    n_token=len(list(set(data['Word'].to_list())))\n",
    "    n_tag=len(list(set(data['Tag'].to_list())))\n",
    "    tokens=data_group['Word_idx'].tolist()\n",
    "    maxlen=max([len(s) for s in tokens])\n",
    "    pad_tokens=pad_sequences(tokens,maxlen=maxlen,dtype='int32',padding='post',value=n_token-1)\n",
    "    tags=data_group['Tag_idx'].tolist()\n",
    "    pad_tags=pad_sequences(tags,maxlen=maxlen,dtype='int32',padding='post',value=tag2idx[\"O\"])\n",
    "    n_tags=len(tag2idx)\n",
    "    pad_tags=[to_categorical(i,num_classes=n_tags) for i in pad_tags]\n",
    "    tokens_,test_tokens,tags_,test_tags=train_test_split(pad_tokens,pad_tags,test_size=0.1,train_size=0.9,random_state=2020)\n",
    "    train_tokens,val_tokens,train_tags,val_tags=train_test_split(tokens_,tags_,test_size=0.25,train_size=0.75,random_state=2020)\n",
    "\n",
    "    print(\n",
    "        'train_tokens length:',len(train_tokens),\n",
    "        '\\ntrain_tokens length:',len(train_tokens),\n",
    "        '\\ntest_tokens length:',len(test_tokens),\n",
    "        '\\ntest_tags:',len(test_tags),\n",
    "        '\\nval_tokens:',len(val_tokens),\n",
    "        '\\nval_tags:',len(val_tags),\n",
    "    )\n",
    "    \n",
    "    return train_tokens,val_tokens,test_tokens,train_tags,val_tags,test_tags\n",
    "\n",
    "train_tokens,val_tokens,test_tokens,train_tags,val_tags,test_tags=get_pad_train_test_val(data_group,data)"
   ]
  },
  {
   "cell_type": "code",
   "execution_count": 47,
   "id": "50edfdec",
   "metadata": {},
   "outputs": [],
   "source": [
    "import numpy as np\n",
    "import tensorflow\n",
    "from tensorflow.keras import Sequential, Model, Input\n",
    "from tensorflow.keras.layers import LSTM, Embedding, Dense, TimeDistributed, Dropout, Bidirectional\n",
    "from tensorflow.keras.utils import plot_model\n",
    "from numpy.random import seed\n",
    "seed(1)\n",
    "tensorflow.random.set_seed(2)"
   ]
  },
  {
   "cell_type": "code",
   "execution_count": 48,
   "id": "a403a80a",
   "metadata": {},
   "outputs": [],
   "source": [
    "input_dim=len(list(set(data['Word'].to_list())))+1\n",
    "output_dim=64\n",
    "input_length=max([len(s) for s in data_group['Word_idx'].tolist()])\n",
    "n_tags=len(tag2idx)"
   ]
  },
  {
   "cell_type": "code",
   "execution_count": 49,
   "id": "b3020a82",
   "metadata": {},
   "outputs": [],
   "source": [
    "def get_bilstm_lstm_model():\n",
    "    model=Sequential()\n",
    "    model.add(Embedding(input_dim=input_dim,output_dim=output_dim,input_length=input_length))\n",
    "    model.add(Bidirectional(LSTM(units=output_dim,return_sequences=True,dropout=0.2,recurrent_dropout=0.2),merge_mode='concat'))\n",
    "    model.add(LSTM(units=output_dim,return_sequences=True,dropout=0.5,recurrent_dropout=0.5))\n",
    "    model.add(TimeDistributed(Dense(n_tags,activation=\"relu\")))\n",
    "\n",
    "    #Optimiser \n",
    "    # adam = k.optimizers.Adam(lr=0.0005, beta_1=0.9, beta_2=0.999)\n",
    "    model.compile(loss='categorical_crossentropy', optimizer='adam', metrics=['accuracy'])\n",
    "    model.summary()\n",
    "    return model"
   ]
  },
  {
   "cell_type": "code",
   "execution_count": 50,
   "id": "13500499",
   "metadata": {},
   "outputs": [],
   "source": [
    "def train_model(X,y,model):\n",
    "    loss=list()\n",
    "    for i in range(25):\n",
    "        hist=model.fit(X,y,batch_size=1000,verbose=1,epochs=1,validation_split=0.2)\n",
    "        loss.append(hist.history['loss'][0])\n",
    "    return loss"
   ]
  },
  {
   "cell_type": "code",
   "execution_count": 51,
   "id": "f32f4752",
   "metadata": {},
   "outputs": [
    {
     "name": "stdout",
     "output_type": "stream",
     "text": [
      "Model: \"sequential_1\"\n",
      "_________________________________________________________________\n",
      " Layer (type)                Output Shape              Param #   \n",
      "=================================================================\n",
      " embedding_1 (Embedding)     (None, 104, 64)           2251456   \n",
      "                                                                 \n",
      " bidirectional_1 (Bidirectio  (None, 104, 128)         66048     \n",
      " nal)                                                            \n",
      "                                                                 \n",
      " lstm_3 (LSTM)               (None, 104, 64)           49408     \n",
      "                                                                 \n",
      " time_distributed_1 (TimeDis  (None, 104, 17)          1105      \n",
      " tributed)                                                       \n",
      "                                                                 \n",
      "=================================================================\n",
      "Total params: 2,368,017\n",
      "Trainable params: 2,368,017\n",
      "Non-trainable params: 0\n",
      "_________________________________________________________________\n",
      "You must install pydot (`pip install pydot`) and install graphviz (see instructions at https://graphviz.gitlab.io/download/) for plot_model/model_to_dot to work.\n",
      "26/26 [==============================] - 16445s 656s/step - loss: nan - accuracy: 0.0769 - val_loss: nan - val_accuracy: 0.0041\n",
      "26/26 [==============================] - 276s 11s/step - loss: nan - accuracy: 0.0041 - val_loss: nan - val_accuracy: 0.0041\n",
      "26/26 [==============================] - 285s 11s/step - loss: nan - accuracy: 0.0041 - val_loss: nan - val_accuracy: 0.0041\n",
      "26/26 [==============================] - 291s 11s/step - loss: nan - accuracy: 0.0041 - val_loss: nan - val_accuracy: 0.0041\n",
      "26/26 [==============================] - 298s 11s/step - loss: nan - accuracy: 0.0041 - val_loss: nan - val_accuracy: 0.0041\n",
      "26/26 [==============================] - 12761s 510s/step - loss: nan - accuracy: 0.0041 - val_loss: nan - val_accuracy: 0.0041\n",
      "26/26 [==============================] - 307s 12s/step - loss: nan - accuracy: 0.0041 - val_loss: nan - val_accuracy: 0.0041\n",
      "26/26 [==============================] - 309s 12s/step - loss: nan - accuracy: 0.0041 - val_loss: nan - val_accuracy: 0.0041\n",
      "26/26 [==============================] - 313s 12s/step - loss: nan - accuracy: 0.0041 - val_loss: nan - val_accuracy: 0.0041\n",
      "26/26 [==============================] - 333s 13s/step - loss: nan - accuracy: 0.0041 - val_loss: nan - val_accuracy: 0.0041\n",
      "26/26 [==============================] - 333s 13s/step - loss: nan - accuracy: 0.0041 - val_loss: nan - val_accuracy: 0.0041\n",
      "26/26 [==============================] - 337s 13s/step - loss: nan - accuracy: 0.0041 - val_loss: nan - val_accuracy: 0.0041\n",
      "26/26 [==============================] - 329s 13s/step - loss: nan - accuracy: 0.0041 - val_loss: nan - val_accuracy: 0.0041\n",
      "26/26 [==============================] - 330s 13s/step - loss: nan - accuracy: 0.0041 - val_loss: nan - val_accuracy: 0.0041\n",
      "26/26 [==============================] - 346s 13s/step - loss: nan - accuracy: 0.0041 - val_loss: nan - val_accuracy: 0.0041\n",
      "26/26 [==============================] - 5457s 218s/step - loss: nan - accuracy: 0.0041 - val_loss: nan - val_accuracy: 0.0041\n",
      "26/26 [==============================] - 333s 13s/step - loss: nan - accuracy: 0.0041 - val_loss: nan - val_accuracy: 0.0041\n",
      "26/26 [==============================] - 331s 13s/step - loss: nan - accuracy: 0.0041 - val_loss: nan - val_accuracy: 0.0041\n",
      "26/26 [==============================] - 335s 13s/step - loss: nan - accuracy: 0.0041 - val_loss: nan - val_accuracy: 0.0041\n",
      "26/26 [==============================] - 333s 13s/step - loss: nan - accuracy: 0.0041 - val_loss: nan - val_accuracy: 0.0041\n",
      "26/26 [==============================] - 335s 13s/step - loss: nan - accuracy: 0.0041 - val_loss: nan - val_accuracy: 0.0041\n",
      "26/26 [==============================] - 339s 13s/step - loss: nan - accuracy: 0.0041 - val_loss: nan - val_accuracy: 0.0041\n",
      "26/26 [==============================] - 340s 13s/step - loss: nan - accuracy: 0.0041 - val_loss: nan - val_accuracy: 0.0041\n",
      "26/26 [==============================] - 344s 13s/step - loss: nan - accuracy: 0.0041 - val_loss: nan - val_accuracy: 0.0041\n",
      "26/26 [==============================] - 352s 14s/step - loss: nan - accuracy: 0.0041 - val_loss: nan - val_accuracy: 0.0041\n"
     ]
    }
   ],
   "source": [
    "results=pd.DataFrame()\n",
    "model_bilstm_lstm=get_bilstm_lstm_model()\n",
    "plot_model(model_bilstm_lstm)\n",
    "results['with_add_lstm']=train_model(train_tokens,np.array(train_tags),model_bilstm_lstm)"
   ]
  },
  {
   "cell_type": "code",
   "execution_count": 64,
   "id": "479d5822",
   "metadata": {},
   "outputs": [
    {
     "data": {
      "text/html": [
       "<span class=\"tex2jax_ignore\"><div class=\"entities\" style=\"line-height: 2.5; direction: ltr\">Hi, My name is \n",
       "<mark class=\"entity\" style=\"background: #aa9cfc; padding: 0.45em 0.6em; margin: 0 0.25em; line-height: 1; border-radius: 0.35em;\">\n",
       "    Samruddh Kamath\n",
       "\n",
       "    <span style=\"font-size: 0.8em; font-weight: bold; line-height: 1; border-radius: 0.35em; vertical-align: middle; margin-left: 0.5rem\">PERSON</span>\n",
       "</mark>\n",
       ". I am from \n",
       "<mark class=\"entity\" style=\"background: #feca74; padding: 0.45em 0.6em; margin: 0 0.25em; line-height: 1; border-radius: 0.35em;\">\n",
       "    Mumbai\n",
       "    <span style=\"font-size: 0.8em; font-weight: bold; line-height: 1; border-radius: 0.35em; vertical-align: middle; margin-left: 0.5rem\">GPE</span>\n",
       "</mark>\n",
       ". I study at \n",
       "<mark class=\"entity\" style=\"background: #7aecec; padding: 0.45em 0.6em; margin: 0 0.25em; line-height: 1; border-radius: 0.35em;\">\n",
       "    Narsee Monjee Institute of Management Studies\n",
       "    <span style=\"font-size: 0.8em; font-weight: bold; line-height: 1; border-radius: 0.35em; vertical-align: middle; margin-left: 0.5rem\">ORG</span>\n",
       "</mark>\n",
       ". </br> I love to eat burgers at \n",
       "<mark class=\"entity\" style=\"background: #7aecec; padding: 0.45em 0.6em; margin: 0 0.25em; line-height: 1; border-radius: 0.35em;\">\n",
       "    McDonalds\n",
       "    <span style=\"font-size: 0.8em; font-weight: bold; line-height: 1; border-radius: 0.35em; vertical-align: middle; margin-left: 0.5rem\">ORG</span>\n",
       "</mark>\n",
       ". I aspire to be like \n",
       "<mark class=\"entity\" style=\"background: #aa9cfc; padding: 0.45em 0.6em; margin: 0 0.25em; line-height: 1; border-radius: 0.35em;\">\n",
       "    Nithin Kamath\n",
       "    <span style=\"font-size: 0.8em; font-weight: bold; line-height: 1; border-radius: 0.35em; vertical-align: middle; margin-left: 0.5rem\">PERSON</span>\n",
       "</mark>\n",
       ".</div></span>"
      ],
      "text/plain": [
       "<IPython.core.display.HTML object>"
      ]
     },
     "metadata": {},
     "output_type": "display_data"
    }
   ],
   "source": [
    "import spacy\n",
    "from spacy import displacy\n",
    "nlp=spacy.load('en_core_web_sm')\n",
    "text=nlp(\"Hi, My name is Samruddh Kamath\\n. I am from Mumbai. I study at Narsee Monjee Institute of Management Studies. \\n I love to eat burgers at McDonalds. I aspire to be like Nithin Kamath.\")\n",
    "displacy.render(text,style='ent',jupyter=True)"
   ]
  }
 ],
 "metadata": {
  "kernelspec": {
   "display_name": "Python 3 (ipykernel)",
   "language": "python",
   "name": "python3"
  },
  "language_info": {
   "codemirror_mode": {
    "name": "ipython",
    "version": 3
   },
   "file_extension": ".py",
   "mimetype": "text/x-python",
   "name": "python",
   "nbconvert_exporter": "python",
   "pygments_lexer": "ipython3",
   "version": "3.10.0"
  }
 },
 "nbformat": 4,
 "nbformat_minor": 5
}
